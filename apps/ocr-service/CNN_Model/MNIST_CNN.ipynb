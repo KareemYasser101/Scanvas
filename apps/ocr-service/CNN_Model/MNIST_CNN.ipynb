{
 "cells": [
  {
   "cell_type": "markdown",
   "id": "510ce460",
   "metadata": {},
   "source": [
    "### SCanvas"
   ]
  },
  {
   "cell_type": "markdown",
   "id": "037cdd36",
   "metadata": {},
   "source": [
    "#### Import the needed libraries"
   ]
  },
  {
   "cell_type": "code",
   "execution_count": 45,
   "id": "3332948e",
   "metadata": {},
   "outputs": [],
   "source": [
    "import tensorflow as tf\n",
    "import numpy as np\n",
    "import matplotlib.pyplot as plt\n",
    "import cv2\n",
    "import sys\n",
    "from tensorflow.keras import layers, models, Sequential # type: ignore\n",
    "from sklearn.model_selection import train_test_split\n",
    "import pickle"
   ]
  },
  {
   "cell_type": "markdown",
   "id": "1051c247",
   "metadata": {},
   "source": [
    "#### Model 1"
   ]
  },
  {
   "cell_type": "code",
   "execution_count": null,
   "id": "0adbac17",
   "metadata": {},
   "outputs": [],
   "source": [
    "# Function to train the CNN model (or load a pre-trained one)\n",
    "def build_and_train_model_original():\n",
    "    (x_train_full, y_train_full), (x_test, y_test) = tf.keras.datasets.mnist.load_data() #Load Data\n",
    "    x_train_full = x_train_full.astype('float32') / 255.0 #Normalize //from 0 to 1\n",
    "    x_test = x_test.astype('float32') / 255.0 #Normalize\n",
    "    x_train, x_val, y_train, y_val = train_test_split(x_train_full, y_train_full, test_size=0.2, random_state=42)\n",
    "\n",
    "    x_train = x_train.reshape(-1, 28, 28, 1)\n",
    "    x_val = x_val.reshape(-1, 28, 28, 1)\n",
    "    x_test = x_test.reshape(-1, 28, 28, 1)\n",
    "\n",
    "    # Build the CNN model\n",
    "    model = models.Sequential([\n",
    "        layers.Conv2D(64, (3, 3), activation='relu', input_shape=(28, 28, 1), padding='same'),\n",
    "        layers.BatchNormalization(),\n",
    "        layers.MaxPooling2D((2, 2)),\n",
    "        layers.Conv2D(128, (3, 3), activation='relu', padding='same'),\n",
    "        layers.BatchNormalization(),\n",
    "        layers.MaxPooling2D((2, 2)),\n",
    "        layers.Conv2D(256, (3, 3), activation='relu', padding='same'),\n",
    "        layers.BatchNormalization(),\n",
    "        layers.MaxPooling2D((2, 2)),\n",
    "        \n",
    "        layers.Flatten(),\n",
    "        layers.Dense(512, activation='relu'),\n",
    "        layers.Dropout(0.6),\n",
    "        layers.Dense(10, activation='softmax')\n",
    "    ])\n",
    "\n",
    "    # Compile the model\n",
    "    model.compile(optimizer=tf.keras.optimizers.Adam(learning_rate=0.0001),\n",
    "                  loss='sparse_categorical_crossentropy',\n",
    "                  metrics=['accuracy'])\n",
    "\n",
    "    # Train the model\n",
    "    model.fit(x_train, y_train, epochs=10, batch_size=32, validation_data=(x_val, y_val))\n",
    "\n",
    "    # Save the model\n",
    "    model.save('attendance_digit_model_original.h5')"
   ]
  },
  {
   "cell_type": "markdown",
   "id": "57e038cd",
   "metadata": {},
   "source": [
    "#### Model 2"
   ]
  },
  {
   "cell_type": "code",
   "execution_count": null,
   "id": "4f0ad674",
   "metadata": {},
   "outputs": [],
   "source": [
    "# Function to train the CNN model (or load a pre-trained one)\n",
    "def build_and_train_model_original_modified():\n",
    "    (x_train_full, y_train_full), (x_test, y_test) = tf.keras.datasets.mnist.load_data() #Load Data\n",
    "    x_train_full = x_train_full.astype('float32') / 255.0 #Normalize //from 0 to 1\n",
    "    x_test = x_test.astype('float32') / 255.0 #Normalize\n",
    "    x_train, x_val, y_train, y_val = train_test_split(x_train_full, y_train_full, test_size=0.2, random_state=42)\n",
    "\n",
    "    x_train = x_train.reshape(-1, 28, 28, 1)\n",
    "    x_val = x_val.reshape(-1, 28, 28, 1)\n",
    "    x_test = x_test.reshape(-1, 28, 28, 1)\n",
    "\n",
    "    # Build the CNN model\n",
    "    model = models.Sequential([\n",
    "        layers.Conv2D(32, (3, 3), activation='relu', input_shape=(28, 28, 1), padding='same'),\n",
    "        layers.BatchNormalization(),\n",
    "        layers.MaxPooling2D((2, 2)),\n",
    "        layers.Conv2D(64, (3, 3), activation='relu', padding='same'),\n",
    "        layers.BatchNormalization(),\n",
    "        layers.MaxPooling2D((2, 2)),\n",
    "\n",
    "        layers.Flatten(),\n",
    "        layers.Dense(128, activation='relu'),\n",
    "        layers.Dropout(0.5),   \n",
    "        layers.Dense(10, activation='softmax')\n",
    "    ])\n",
    "\n",
    "    # Compile the model\n",
    "    model.compile(optimizer=tf.keras.optimizers.Adam(learning_rate=0.0001),\n",
    "                  loss='sparse_categorical_crossentropy',\n",
    "                  metrics=['accuracy'])\n",
    "\n",
    "    # Train the model\n",
    "    model.fit(x_train, y_train, epochs=10, batch_size=32, validation_data=(x_val, y_val))\n",
    "\n",
    "    # Save the model\n",
    "    model.save('attendance_digit_model_original_modified.h5')"
   ]
  },
  {
   "cell_type": "markdown",
   "id": "bd54f444",
   "metadata": {},
   "source": [
    "#### Model 3 (Augmentation)"
   ]
  },
  {
   "cell_type": "code",
   "execution_count": 48,
   "id": "5b0fc54a",
   "metadata": {},
   "outputs": [],
   "source": [
    "import tensorflow as tf\n",
    "from tensorflow.keras import models, layers\n",
    "from tensorflow.keras.preprocessing.image import ImageDataGenerator\n",
    "from sklearn.model_selection import train_test_split\n",
    "import numpy as np\n",
    "\n",
    "def build_and_train_model_original_modified_augmented():\n",
    "    # Load Data\n",
    "    (x_train_full, y_train_full), (x_test, y_test) = tf.keras.datasets.mnist.load_data()\n",
    "    \n",
    "    # Normalize data to range [0, 1]\n",
    "    x_train_full = x_train_full.astype('float32') / 255.0\n",
    "    x_test = x_test.astype('float32') / 255.0\n",
    "    \n",
    "    # Split into training and validation sets\n",
    "    x_train, x_val, y_train, y_val = train_test_split(x_train_full, y_train_full, test_size=0.2, random_state=42)\n",
    "    \n",
    "    # Reshape data for CNN input\n",
    "    x_train = x_train.reshape(-1, 28, 28, 1)\n",
    "    x_val = x_val.reshape(-1, 28, 28, 1)\n",
    "    x_test = x_test.reshape(-1, 28, 28, 1)\n",
    "    \n",
    "    # Define data augmentation\n",
    "    datagen = ImageDataGenerator(\n",
    "        rotation_range=10,          # Rotate images by up to 10 degrees\n",
    "        width_shift_range=0.1,      # Shift images horizontally by up to 10% of width\n",
    "        height_shift_range=0.1,     # Shift images vertically by up to 10% of height\n",
    "        zoom_range=0.1,             # Zoom in/out by up to 10%\n",
    "        shear_range=0.1,            # Shear transformation by up to 10%\n",
    "        fill_mode='nearest'         # Fill new pixels with nearest neighbor\n",
    "    )\n",
    "    \n",
    "    # Fit the data generator to the training data\n",
    "    datagen.fit(x_train)\n",
    "    \n",
    "    # Build the CNN model\n",
    "    model = models.Sequential([\n",
    "        layers.Conv2D(32, (3, 3), activation='relu', input_shape=(28, 28, 1), padding='same'),\n",
    "        layers.BatchNormalization(),\n",
    "        layers.MaxPooling2D((2, 2)),\n",
    "        layers.Conv2D(64, (3, 3), activation='relu', padding='same'),\n",
    "        layers.BatchNormalization(),\n",
    "        layers.MaxPooling2D((2, 2)),\n",
    "\n",
    "        layers.Flatten(),\n",
    "        layers.Dense(128, activation='relu'),\n",
    "        layers.Dropout(0.5),\n",
    "        layers.Dense(10, activation='softmax')\n",
    "    ])\n",
    "    \n",
    "    # Compile the model\n",
    "    model.compile(optimizer=tf.keras.optimizers.Adam(learning_rate=0.0001),\n",
    "                  loss='sparse_categorical_crossentropy',\n",
    "                  metrics=['accuracy'])\n",
    "    \n",
    "    # Train the model with data augmentation\n",
    "    model.fit(datagen.flow(x_train, y_train, batch_size=32),\n",
    "              epochs=10,\n",
    "              validation_data=(x_val, y_val))\n",
    "    \n",
    "    # Save the model\n",
    "    model.save('attendance_digit_model_original_modified_augmented.h5')\n",
    "    \n",
    "    # Evaluate the model on test data (optional, for verification)\n",
    "    test_loss, test_accuracy = model.evaluate(x_test, y_test)\n",
    "    print(f\"Test accuracy: {test_accuracy:.4f}, Test loss: {test_loss:.4f}\")"
   ]
  },
  {
   "cell_type": "markdown",
   "id": "ec3c4a95",
   "metadata": {},
   "source": [
    "##### Model 4 (On our data)"
   ]
  },
  {
   "cell_type": "code",
   "execution_count": 49,
   "id": "1445f069",
   "metadata": {},
   "outputs": [],
   "source": [
    "import os\n",
    "import numpy as np\n",
    "import tensorflow as tf\n",
    "from tensorflow.keras import layers, models\n",
    "from tensorflow.keras.preprocessing.image import load_img, img_to_array\n",
    "\n",
    "# Folder-to-label map\n",
    "FOLDER_LABEL_MAP = {\n",
    "    'Zero': 0,\n",
    "    'One': 1,\n",
    "    'Two': 2,\n",
    "    'Three': 3,\n",
    "    'Four': 4,\n",
    "    'Five': 5,\n",
    "    'Six': 6,\n",
    "    'Seven': 7,\n",
    "    'Eight': 8,\n",
    "    'Nine': 9\n",
    "}\n",
    "\n",
    "def load_custom_digit_data(data_dir):\n",
    "    images = []\n",
    "    labels = []\n",
    "\n",
    "    for folder_name, label in FOLDER_LABEL_MAP.items():\n",
    "        folder_path = os.path.join(data_dir, folder_name)\n",
    "        for filename in os.listdir(folder_path):\n",
    "            if filename.lower().endswith(('.png', '.jpg', '.jpeg', '.bmp')):\n",
    "                img_path = os.path.join(folder_path, filename)\n",
    "                img = load_img(img_path, color_mode='grayscale', target_size=(28, 28))\n",
    "                img_array = img_to_array(img) / 255.0  # Normalize\n",
    "                images.append(img_array)\n",
    "                labels.append(label)\n",
    "\n",
    "    images = np.array(images)\n",
    "    labels = np.array(labels)\n",
    "    return images, labels\n",
    "\n",
    "def build_and_train_model_from_custom_data(data_dir='your_data_folder'):\n",
    "    # Load and preprocess data\n",
    "    images, labels = load_custom_digit_data(data_dir)\n",
    "    images = images.reshape(-1, 28, 28, 1)\n",
    "\n",
    "    # Build CNN model\n",
    "    model = models.Sequential([\n",
    "        layers.Conv2D(64, (3, 3), activation='relu', input_shape=(28, 28, 1), padding='same'),\n",
    "        layers.BatchNormalization(),\n",
    "        layers.MaxPooling2D((2, 2)),\n",
    "        layers.Conv2D(128, (3, 3), activation='relu', padding='same'),\n",
    "        layers.BatchNormalization(),\n",
    "        layers.MaxPooling2D((2, 2)),\n",
    "        layers.Conv2D(256, (3, 3), activation='relu', padding='same'),\n",
    "        layers.BatchNormalization(),\n",
    "        layers.MaxPooling2D((2, 2)),\n",
    "\n",
    "        layers.Flatten(),\n",
    "        layers.Dense(512, activation='relu'),\n",
    "        layers.Dropout(0.6),\n",
    "        layers.Dense(10, activation='softmax')\n",
    "    ])\n",
    "\n",
    "    # Compile the model\n",
    "    model.compile(optimizer=tf.keras.optimizers.Adam(learning_rate=0.0001),\n",
    "                  loss='sparse_categorical_crossentropy',\n",
    "                  metrics=['accuracy'])\n",
    "\n",
    "    # Train on all data (no validation split)\n",
    "    model.fit(images, labels, epochs=10, batch_size=32)\n",
    "\n",
    "    # Save the model\n",
    "    model.save('attendance_digit_model_our_data.h5')\n"
   ]
  },
  {
   "cell_type": "markdown",
   "id": "3f4a2f57",
   "metadata": {},
   "source": [
    "#### Model 5 (on our data with augmentation)"
   ]
  },
  {
   "cell_type": "code",
   "execution_count": 59,
   "id": "1c4172db",
   "metadata": {},
   "outputs": [],
   "source": [
    "# Folder-to-label map\n",
    "FOLDER_LABEL_MAP = {\n",
    "    'Zero': 0,\n",
    "    'One': 1,\n",
    "    'Two': 2,\n",
    "    'Three': 3,\n",
    "    'Four': 4,\n",
    "    'Five': 5,\n",
    "    'Six': 6,\n",
    "    'Seven': 7,\n",
    "    'Eight': 8,\n",
    "    'Nine': 9\n",
    "}\n",
    "\n",
    "def load_custom_digit_data(data_dir):\n",
    "    images = []\n",
    "    labels = []\n",
    "\n",
    "    for folder_name, label in FOLDER_LABEL_MAP.items():\n",
    "        folder_path = os.path.join(data_dir, folder_name)\n",
    "        for filename in os.listdir(folder_path):\n",
    "            if filename.lower().endswith(('.png', '.jpg', '.jpeg', '.bmp')):\n",
    "                img_path = os.path.join(folder_path, filename)\n",
    "                img = load_img(img_path, color_mode='grayscale', target_size=(28, 28))\n",
    "                img_array = img_to_array(img) / 255.0\n",
    "                images.append(img_array)\n",
    "                labels.append(label)\n",
    "\n",
    "    return np.array(images), np.array(labels)\n",
    "\n",
    "def augment_data(images, labels, augment_size=2):\n",
    "    datagen = ImageDataGenerator(\n",
    "        rotation_range=10,\n",
    "        zoom_range=0.1,\n",
    "        width_shift_range=0.1,\n",
    "        height_shift_range=0.1,\n",
    "        shear_range=0.1\n",
    "    )\n",
    "\n",
    "    augmented_images = []\n",
    "    augmented_labels = []\n",
    "\n",
    "    for i in range(len(images)):\n",
    "        image = images[i].reshape((1, 28, 28, 1))\n",
    "        label = labels[i]\n",
    "\n",
    "        aug_iter = datagen.flow(image, batch_size=1)\n",
    "        for _ in range(augment_size):\n",
    "            aug_img = next(aug_iter)[0]\n",
    "            augmented_images.append(aug_img)\n",
    "            augmented_labels.append(label)\n",
    "\n",
    "    return np.array(augmented_images), np.array(augmented_labels)\n",
    "\n",
    "def build_and_train_model_from_custom_data_augmented(data_dir='your_data_folder'):\n",
    "    # Load and preprocess data\n",
    "    images, labels = load_custom_digit_data(data_dir)\n",
    "    images = images.reshape(-1, 28, 28, 1)\n",
    "\n",
    "    # Augment the data\n",
    "    augmented_images, augmented_labels = augment_data(images, labels, augment_size=9)\n",
    "\n",
    "    # Combine original and augmented data\n",
    "    all_images = np.concatenate((images, augmented_images), axis=0)\n",
    "    all_labels = np.concatenate((labels, augmented_labels), axis=0)\n",
    "\n",
    "    # Shuffle the dataset\n",
    "    indices = np.arange(all_images.shape[0])\n",
    "    np.random.shuffle(indices)\n",
    "    all_images = all_images[indices]\n",
    "    all_labels = all_labels[indices]\n",
    "\n",
    "    # Build CNN model\n",
    "    model = models.Sequential([\n",
    "        layers.Conv2D(64, (3, 3), activation='relu', input_shape=(28, 28, 1), padding='same'),\n",
    "        layers.BatchNormalization(),\n",
    "        layers.MaxPooling2D((2, 2)),\n",
    "        layers.Conv2D(128, (3, 3), activation='relu', padding='same'),\n",
    "        layers.BatchNormalization(),\n",
    "        layers.MaxPooling2D((2, 2)),\n",
    "        layers.Conv2D(256, (3, 3), activation='relu', padding='same'),\n",
    "        layers.BatchNormalization(),\n",
    "        layers.MaxPooling2D((2, 2)),\n",
    "\n",
    "        layers.Flatten(),\n",
    "        layers.Dense(512, activation='relu'),\n",
    "        layers.Dropout(0.6),\n",
    "        layers.Dense(10, activation='softmax')\n",
    "    ])\n",
    "\n",
    "    # Compile the model\n",
    "    model.compile(optimizer=tf.keras.optimizers.Adam(learning_rate=0.0001),\n",
    "                  loss='sparse_categorical_crossentropy',\n",
    "                  metrics=['accuracy'])\n",
    "\n",
    "    # Train the model\n",
    "    model.fit(all_images, all_labels, epochs=10, batch_size=32)\n",
    "\n",
    "    # Save the model\n",
    "    model.save('attendance_digit_model_our_data_augmented.h5')\n"
   ]
  },
  {
   "cell_type": "markdown",
   "id": "b7fe4d53",
   "metadata": {},
   "source": [
    "#### Model 6"
   ]
  },
  {
   "cell_type": "code",
   "execution_count": null,
   "id": "01bc7b2b",
   "metadata": {},
   "outputs": [],
   "source": [
    "# Model 6\n",
    "def build_and_train_model_6():\n",
    "    # 1. Load and preprocess MNIST\n",
    "    (x_train, y_train), (x_test, y_test) = mnist.load_data()\n",
    "    x_train = x_train.astype(\"float32\") / 255.0\n",
    "    x_test = x_test.astype(\"float32\") / 255.0\n",
    "\n",
    "\n",
    "    # 2. Define the CNN model\n",
    "    model = models.Sequential([\n",
    "        layers.Conv2D(25, (3, 3), activation='relu', input_shape=(28, 28, 1)),\n",
    "        layers.MaxPooling2D((2, 2)),\n",
    "        layers.Conv2D(64, (3, 3), activation='relu'),\n",
    "        layers.MaxPooling2D((2, 2)),\n",
    "        layers.Conv2D(64, (3, 3), activation='relu'),\n",
    "        layers.MaxPooling2D((2, 2)),\n",
    "\n",
    "        layers.Flatten(),\n",
    "        layers.Dense(64, activation='relu'),\n",
    "        layers.Dense(10, activation='softmax')\n",
    "    ])\n",
    "\n",
    "     # 3. Compile the model\n",
    "    model.compile(\n",
    "        optimizer='adam',\n",
    "        loss='sparse_categorical_crossentropy',\n",
    "        metrics=['accuracy']\n",
    "    )\n",
    "\n",
    "    # 4. Train the model\n",
    "    history = model.fit(\n",
    "        x_train, y_train,\n",
    "        epochs=10,\n",
    "        batch_size=128,\n",
    "        validation_split=0.1\n",
    "    )\n",
    "\n",
    "    # 5. Evaluate on test set\n",
    "    test_loss, test_acc = model.evaluate(x_test, y_test, verbose=2)\n",
    "    print(f\"\\nTest accuracy: {test_acc:.4f}\")\n",
    "\n",
    "    # 6. Save the model\n",
    "    model.save(\"model6.h5\")\n",
    "    print(\"Model saved as mnist_resnet.h5\")"
   ]
  },
  {
   "cell_type": "markdown",
   "id": "df870be8",
   "metadata": {},
   "source": [
    "#### Train the models"
   ]
  },
  {
   "cell_type": "code",
   "execution_count": null,
   "id": "190547d4",
   "metadata": {},
   "outputs": [
    {
     "name": "stderr",
     "output_type": "stream",
     "text": [
      "c:\\Users\\Computer Store\\AppData\\Local\\Programs\\Python\\Python310\\lib\\site-packages\\keras\\src\\layers\\convolutional\\base_conv.py:107: UserWarning: Do not pass an `input_shape`/`input_dim` argument to a layer. When using Sequential models, prefer using an `Input(shape)` object as the first layer in the model instead.\n",
      "  super().__init__(activity_regularizer=activity_regularizer, **kwargs)\n"
     ]
    },
    {
     "name": "stdout",
     "output_type": "stream",
     "text": [
      "Epoch 1/10\n",
      "\u001b[1m1500/1500\u001b[0m \u001b[32m━━━━━━━━━━━━━━━━━━━━\u001b[0m\u001b[37m\u001b[0m \u001b[1m122s\u001b[0m 77ms/step - accuracy: 0.8496 - loss: 0.5368 - val_accuracy: 0.9816 - val_loss: 0.0627\n",
      "Epoch 2/10\n",
      "\u001b[1m1500/1500\u001b[0m \u001b[32m━━━━━━━━━━━━━━━━━━━━\u001b[0m\u001b[37m\u001b[0m \u001b[1m114s\u001b[0m 76ms/step - accuracy: 0.9731 - loss: 0.0885 - val_accuracy: 0.9881 - val_loss: 0.0428\n",
      "Epoch 3/10\n",
      "\u001b[1m1500/1500\u001b[0m \u001b[32m━━━━━━━━━━━━━━━━━━━━\u001b[0m\u001b[37m\u001b[0m \u001b[1m124s\u001b[0m 82ms/step - accuracy: 0.9831 - loss: 0.0562 - val_accuracy: 0.9881 - val_loss: 0.0360\n",
      "Epoch 4/10\n",
      "\u001b[1m1500/1500\u001b[0m \u001b[32m━━━━━━━━━━━━━━━━━━━━\u001b[0m\u001b[37m\u001b[0m \u001b[1m132s\u001b[0m 88ms/step - accuracy: 0.9854 - loss: 0.0438 - val_accuracy: 0.9902 - val_loss: 0.0355\n",
      "Epoch 5/10\n",
      "\u001b[1m1500/1500\u001b[0m \u001b[32m━━━━━━━━━━━━━━━━━━━━\u001b[0m\u001b[37m\u001b[0m \u001b[1m133s\u001b[0m 89ms/step - accuracy: 0.9893 - loss: 0.0338 - val_accuracy: 0.9904 - val_loss: 0.0362\n",
      "Epoch 6/10\n",
      "\u001b[1m1500/1500\u001b[0m \u001b[32m━━━━━━━━━━━━━━━━━━━━\u001b[0m\u001b[37m\u001b[0m \u001b[1m142s\u001b[0m 94ms/step - accuracy: 0.9900 - loss: 0.0316 - val_accuracy: 0.9906 - val_loss: 0.0344\n",
      "Epoch 7/10\n",
      "\u001b[1m1500/1500\u001b[0m \u001b[32m━━━━━━━━━━━━━━━━━━━━\u001b[0m\u001b[37m\u001b[0m \u001b[1m140s\u001b[0m 93ms/step - accuracy: 0.9922 - loss: 0.0245 - val_accuracy: 0.9927 - val_loss: 0.0296\n",
      "Epoch 8/10\n",
      "\u001b[1m1500/1500\u001b[0m \u001b[32m━━━━━━━━━━━━━━━━━━━━\u001b[0m\u001b[37m\u001b[0m \u001b[1m133s\u001b[0m 89ms/step - accuracy: 0.9939 - loss: 0.0204 - val_accuracy: 0.9902 - val_loss: 0.0429\n",
      "Epoch 9/10\n",
      "\u001b[1m1500/1500\u001b[0m \u001b[32m━━━━━━━━━━━━━━━━━━━━\u001b[0m\u001b[37m\u001b[0m \u001b[1m132s\u001b[0m 88ms/step - accuracy: 0.9942 - loss: 0.0169 - val_accuracy: 0.9928 - val_loss: 0.0295\n",
      "Epoch 10/10\n",
      "\u001b[1m1500/1500\u001b[0m \u001b[32m━━━━━━━━━━━━━━━━━━━━\u001b[0m\u001b[37m\u001b[0m \u001b[1m134s\u001b[0m 89ms/step - accuracy: 0.9947 - loss: 0.0173 - val_accuracy: 0.9911 - val_loss: 0.0419\n"
     ]
    },
    {
     "name": "stderr",
     "output_type": "stream",
     "text": [
      "WARNING:absl:You are saving your model as an HDF5 file via `model.save()` or `keras.saving.save_model(model)`. This file format is considered legacy. We recommend using instead the native Keras format, e.g. `model.save('my_model.keras')` or `keras.saving.save_model(model, 'my_model.keras')`. \n"
     ]
    }
   ],
   "source": [
    "#build_and_train_model_original() #train model 1"
   ]
  },
  {
   "cell_type": "code",
   "execution_count": null,
   "id": "d2f0c21b",
   "metadata": {},
   "outputs": [
    {
     "name": "stderr",
     "output_type": "stream",
     "text": [
      "WARNING:absl:Compiled the loaded model, but the compiled metrics have yet to be built. `model.compile_metrics` will be empty until you train or evaluate the model.\n"
     ]
    },
    {
     "name": "stdout",
     "output_type": "stream",
     "text": [
      "Test Accuracy: 0.9916\n",
      "\u001b[1m313/313\u001b[0m \u001b[32m━━━━━━━━━━━━━━━━━━━━\u001b[0m\u001b[37m\u001b[0m \u001b[1m7s\u001b[0m 22ms/step\n"
     ]
    },
    {
     "data": {
      "image/png": "[encoded data removed]",
      "text/plain": [
       "<Figure size 640x480 with 2 Axes>"
      ]
     },
     "metadata": {},
     "output_type": "display_data"
    }
   ],
   "source": [
    "#test model 1\n",
    "import numpy as np\n",
    "import tensorflow as tf\n",
    "from sklearn.metrics import confusion_matrix, ConfusionMatrixDisplay\n",
    "import matplotlib.pyplot as plt\n",
    "\n",
    "# Load the trained model\n",
    "model = tf.keras.models.load_model('attendance_digit_model_original.h5')\n",
    "\n",
    "# Load and preprocess the MNIST test data\n",
    "(_, _), (x_test, y_test) = tf.keras.datasets.mnist.load_data()\n",
    "x_test = x_test.astype('float32') / 255.0\n",
    "x_test = x_test.reshape(-1, 28, 28, 1)\n",
    "\n",
    "# Evaluate on test data\n",
    "test_loss, test_accuracy = model.evaluate(x_test, y_test, verbose=0)\n",
    "print(f\"Test Accuracy: {test_accuracy:.4f}\")\n",
    "\n",
    "# Predict labels\n",
    "y_pred = model.predict(x_test)\n",
    "y_pred_classes = np.argmax(y_pred, axis=1)\n",
    "\n",
    "# Confusion Matrix\n",
    "cm = confusion_matrix(y_test, y_pred_classes)\n",
    "disp = ConfusionMatrixDisplay(confusion_matrix=cm, display_labels=np.arange(10))\n",
    "disp.plot(cmap='Blues', values_format='d')\n",
    "plt.title(\"Confusion Matrix\")\n",
    "plt.show()"
   ]
  },
  {
   "cell_type": "code",
   "execution_count": null,
   "id": "b1c3f5ca",
   "metadata": {},
   "outputs": [
    {
     "name": "stdout",
     "output_type": "stream",
     "text": [
      "Epoch 1/10\n"
     ]
    },
    {
     "name": "stderr",
     "output_type": "stream",
     "text": [
      "c:\\Users\\Computer Store\\AppData\\Local\\Programs\\Python\\Python310\\lib\\site-packages\\keras\\src\\layers\\convolutional\\base_conv.py:107: UserWarning: Do not pass an `input_shape`/`input_dim` argument to a layer. When using Sequential models, prefer using an `Input(shape)` object as the first layer in the model instead.\n",
      "  super().__init__(activity_regularizer=activity_regularizer, **kwargs)\n"
     ]
    },
    {
     "name": "stdout",
     "output_type": "stream",
     "text": [
      "\u001b[1m1500/1500\u001b[0m \u001b[32m━━━━━━━━━━━━━━━━━━━━\u001b[0m\u001b[37m\u001b[0m \u001b[1m68s\u001b[0m 43ms/step - accuracy: 0.7812 - loss: 0.7193 - val_accuracy: 0.9755 - val_loss: 0.0827\n",
      "Epoch 2/10\n",
      "\u001b[1m1500/1500\u001b[0m \u001b[32m━━━━━━━━━━━━━━━━━━━━\u001b[0m\u001b[37m\u001b[0m \u001b[1m61s\u001b[0m 40ms/step - accuracy: 0.9555 - loss: 0.1391 - val_accuracy: 0.9831 - val_loss: 0.0555\n",
      "Epoch 3/10\n",
      "\u001b[1m1500/1500\u001b[0m \u001b[32m━━━━━━━━━━━━━━━━━━━━\u001b[0m\u001b[37m\u001b[0m \u001b[1m51s\u001b[0m 34ms/step - accuracy: 0.9728 - loss: 0.0880 - val_accuracy: 0.9859 - val_loss: 0.0475\n",
      "Epoch 4/10\n",
      "\u001b[1m1500/1500\u001b[0m \u001b[32m━━━━━━━━━━━━━━━━━━━━\u001b[0m\u001b[37m\u001b[0m \u001b[1m36s\u001b[0m 24ms/step - accuracy: 0.9780 - loss: 0.0717 - val_accuracy: 0.9891 - val_loss: 0.0403\n",
      "Epoch 5/10\n",
      "\u001b[1m1500/1500\u001b[0m \u001b[32m━━━━━━━━━━━━━━━━━━━━\u001b[0m\u001b[37m\u001b[0m \u001b[1m36s\u001b[0m 24ms/step - accuracy: 0.9823 - loss: 0.0574 - val_accuracy: 0.9893 - val_loss: 0.0381\n",
      "Epoch 6/10\n",
      "\u001b[1m1500/1500\u001b[0m \u001b[32m━━━━━━━━━━━━━━━━━━━━\u001b[0m\u001b[37m\u001b[0m \u001b[1m37s\u001b[0m 24ms/step - accuracy: 0.9860 - loss: 0.0452 - val_accuracy: 0.9906 - val_loss: 0.0365\n",
      "Epoch 7/10\n",
      "\u001b[1m1500/1500\u001b[0m \u001b[32m━━━━━━━━━━━━━━━━━━━━\u001b[0m\u001b[37m\u001b[0m \u001b[1m41s\u001b[0m 27ms/step - accuracy: 0.9876 - loss: 0.0365 - val_accuracy: 0.9896 - val_loss: 0.0376\n",
      "Epoch 8/10\n",
      "\u001b[1m1500/1500\u001b[0m \u001b[32m━━━━━━━━━━━━━━━━━━━━\u001b[0m\u001b[37m\u001b[0m \u001b[1m40s\u001b[0m 27ms/step - accuracy: 0.9893 - loss: 0.0332 - val_accuracy: 0.9900 - val_loss: 0.0383\n",
      "Epoch 9/10\n",
      "\u001b[1m1500/1500\u001b[0m \u001b[32m━━━━━━━━━━━━━━━━━━━━\u001b[0m\u001b[37m\u001b[0m \u001b[1m42s\u001b[0m 28ms/step - accuracy: 0.9907 - loss: 0.0291 - val_accuracy: 0.9914 - val_loss: 0.0341\n",
      "Epoch 10/10\n",
      "\u001b[1m1500/1500\u001b[0m \u001b[32m━━━━━━━━━━━━━━━━━━━━\u001b[0m\u001b[37m\u001b[0m \u001b[1m40s\u001b[0m 26ms/step - accuracy: 0.9926 - loss: 0.0258 - val_accuracy: 0.9921 - val_loss: 0.0325\n"
     ]
    },
    {
     "name": "stderr",
     "output_type": "stream",
     "text": [
      "WARNING:absl:You are saving your model as an HDF5 file via `model.save()` or `keras.saving.save_model(model)`. This file format is considered legacy. We recommend using instead the native Keras format, e.g. `model.save('my_model.keras')` or `keras.saving.save_model(model, 'my_model.keras')`. \n"
     ]
    }
   ],
   "source": [
    "#build_and_train_model_original_modified() #train model 2"
   ]
  },
  {
   "cell_type": "code",
   "execution_count": 54,
   "id": "66d762aa",
   "metadata": {},
   "outputs": [
    {
     "name": "stderr",
     "output_type": "stream",
     "text": [
      "WARNING:absl:Compiled the loaded model, but the compiled metrics have yet to be built. `model.compile_metrics` will be empty until you train or evaluate the model.\n"
     ]
    },
    {
     "name": "stdout",
     "output_type": "stream",
     "text": [
      "Test Accuracy: 0.9919\n",
      "\u001b[1m313/313\u001b[0m \u001b[32m━━━━━━━━━━━━━━━━━━━━\u001b[0m\u001b[37m\u001b[0m \u001b[1m3s\u001b[0m 8ms/step\n"
     ]
    },
    {
     "data": {
      "image/png": "[encoded data removed]",
      "text/plain": [
       "<Figure size 640x480 with 2 Axes>"
      ]
     },
     "metadata": {},
     "output_type": "display_data"
    }
   ],
   "source": [
    "# test model 2\n",
    "model = tf.keras.models.load_model('attendance_digit_model_original_modified.h5')\n",
    "\n",
    "# Load and preprocess the MNIST test data\n",
    "(_, _), (x_test, y_test) = tf.keras.datasets.mnist.load_data()\n",
    "x_test = x_test.astype('float32') / 255.0\n",
    "x_test = x_test.reshape(-1, 28, 28, 1)\n",
    "\n",
    "# Evaluate on test data\n",
    "test_loss, test_accuracy = model.evaluate(x_test, y_test, verbose=0)\n",
    "print(f\"Test Accuracy: {test_accuracy:.4f}\")\n",
    "\n",
    "# Predict labels\n",
    "y_pred = model.predict(x_test)\n",
    "y_pred_classes = np.argmax(y_pred, axis=1)\n",
    "\n",
    "# Confusion Matrix\n",
    "cm = confusion_matrix(y_test, y_pred_classes)\n",
    "disp = ConfusionMatrixDisplay(confusion_matrix=cm, display_labels=np.arange(10))\n",
    "disp.plot(cmap='Blues', values_format='d')\n",
    "plt.title(\"Confusion Matrix - Modified Model\")\n",
    "plt.show()\n"
   ]
  },
  {
   "cell_type": "code",
   "execution_count": null,
   "id": "de6a4872",
   "metadata": {},
   "outputs": [
    {
     "name": "stdout",
     "output_type": "stream",
     "text": [
      "Epoch 1/10\n"
     ]
    },
    {
     "name": "stderr",
     "output_type": "stream",
     "text": [
      "c:\\Users\\Computer Store\\AppData\\Local\\Programs\\Python\\Python310\\lib\\site-packages\\keras\\src\\layers\\convolutional\\base_conv.py:107: UserWarning: Do not pass an `input_shape`/`input_dim` argument to a layer. When using Sequential models, prefer using an `Input(shape)` object as the first layer in the model instead.\n",
      "  super().__init__(activity_regularizer=activity_regularizer, **kwargs)\n",
      "c:\\Users\\Computer Store\\AppData\\Local\\Programs\\Python\\Python310\\lib\\site-packages\\keras\\src\\trainers\\data_adapters\\py_dataset_adapter.py:121: UserWarning: Your `PyDataset` class should call `super().__init__(**kwargs)` in its constructor. `**kwargs` can include `workers`, `use_multiprocessing`, `max_queue_size`. Do not pass these arguments to `fit()`, as they will be ignored.\n",
      "  self._warn_if_super_not_called()\n"
     ]
    },
    {
     "name": "stdout",
     "output_type": "stream",
     "text": [
      "\u001b[1m1500/1500\u001b[0m \u001b[32m━━━━━━━━━━━━━━━━━━━━\u001b[0m\u001b[37m\u001b[0m \u001b[1m49s\u001b[0m 32ms/step - accuracy: 0.6283 - loss: 1.1735 - val_accuracy: 0.9686 - val_loss: 0.1041\n",
      "Epoch 2/10\n",
      "\u001b[1m1500/1500\u001b[0m \u001b[32m━━━━━━━━━━━━━━━━━━━━\u001b[0m\u001b[37m\u001b[0m \u001b[1m53s\u001b[0m 35ms/step - accuracy: 0.9096 - loss: 0.2900 - val_accuracy: 0.9787 - val_loss: 0.0740\n",
      "Epoch 3/10\n",
      "\u001b[1m1500/1500\u001b[0m \u001b[32m━━━━━━━━━━━━━━━━━━━━\u001b[0m\u001b[37m\u001b[0m \u001b[1m55s\u001b[0m 37ms/step - accuracy: 0.9377 - loss: 0.2043 - val_accuracy: 0.9735 - val_loss: 0.0915\n",
      "Epoch 4/10\n",
      "\u001b[1m1500/1500\u001b[0m \u001b[32m━━━━━━━━━━━━━━━━━━━━\u001b[0m\u001b[37m\u001b[0m \u001b[1m48s\u001b[0m 32ms/step - accuracy: 0.9508 - loss: 0.1640 - val_accuracy: 0.9832 - val_loss: 0.0554\n",
      "Epoch 5/10\n",
      "\u001b[1m1500/1500\u001b[0m \u001b[32m━━━━━━━━━━━━━━━━━━━━\u001b[0m\u001b[37m\u001b[0m \u001b[1m53s\u001b[0m 36ms/step - accuracy: 0.9587 - loss: 0.1386 - val_accuracy: 0.9873 - val_loss: 0.0439\n",
      "Epoch 6/10\n",
      "\u001b[1m1500/1500\u001b[0m \u001b[32m━━━━━━━━━━━━━━━━━━━━\u001b[0m\u001b[37m\u001b[0m \u001b[1m60s\u001b[0m 40ms/step - accuracy: 0.9616 - loss: 0.1276 - val_accuracy: 0.9858 - val_loss: 0.0453\n",
      "Epoch 7/10\n",
      "\u001b[1m1500/1500\u001b[0m \u001b[32m━━━━━━━━━━━━━━━━━━━━\u001b[0m\u001b[37m\u001b[0m \u001b[1m49s\u001b[0m 32ms/step - accuracy: 0.9667 - loss: 0.1125 - val_accuracy: 0.9874 - val_loss: 0.0466\n",
      "Epoch 8/10\n",
      "\u001b[1m1500/1500\u001b[0m \u001b[32m━━━━━━━━━━━━━━━━━━━━\u001b[0m\u001b[37m\u001b[0m \u001b[1m49s\u001b[0m 33ms/step - accuracy: 0.9682 - loss: 0.1076 - val_accuracy: 0.9880 - val_loss: 0.0442\n",
      "Epoch 9/10\n",
      "\u001b[1m1500/1500\u001b[0m \u001b[32m━━━━━━━━━━━━━━━━━━━━\u001b[0m\u001b[37m\u001b[0m \u001b[1m49s\u001b[0m 32ms/step - accuracy: 0.9702 - loss: 0.1051 - val_accuracy: 0.9889 - val_loss: 0.0433\n",
      "Epoch 10/10\n",
      "\u001b[1m1500/1500\u001b[0m \u001b[32m━━━━━━━━━━━━━━━━━━━━\u001b[0m\u001b[37m\u001b[0m \u001b[1m61s\u001b[0m 40ms/step - accuracy: 0.9711 - loss: 0.0965 - val_accuracy: 0.9893 - val_loss: 0.0393\n"
     ]
    },
    {
     "name": "stderr",
     "output_type": "stream",
     "text": [
      "WARNING:absl:You are saving your model as an HDF5 file via `model.save()` or `keras.saving.save_model(model)`. This file format is considered legacy. We recommend using instead the native Keras format, e.g. `model.save('my_model.keras')` or `keras.saving.save_model(model, 'my_model.keras')`. \n"
     ]
    },
    {
     "name": "stdout",
     "output_type": "stream",
     "text": [
      "\u001b[1m313/313\u001b[0m \u001b[32m━━━━━━━━━━━━━━━━━━━━\u001b[0m\u001b[37m\u001b[0m \u001b[1m2s\u001b[0m 7ms/step - accuracy: 0.9899 - loss: 0.0333\n",
      "Test accuracy: 0.9909, Test loss: 0.0293\n"
     ]
    }
   ],
   "source": [
    "#build_and_train_model_original_modified_augmented()  #train model 3"
   ]
  },
  {
   "cell_type": "code",
   "execution_count": 56,
   "id": "64dcf5a7",
   "metadata": {},
   "outputs": [
    {
     "name": "stderr",
     "output_type": "stream",
     "text": [
      "WARNING:absl:Compiled the loaded model, but the compiled metrics have yet to be built. `model.compile_metrics` will be empty until you train or evaluate the model.\n"
     ]
    },
    {
     "name": "stdout",
     "output_type": "stream",
     "text": [
      "Test Accuracy: 0.9909\n",
      "\u001b[1m313/313\u001b[0m \u001b[32m━━━━━━━━━━━━━━━━━━━━\u001b[0m\u001b[37m\u001b[0m \u001b[1m2s\u001b[0m 6ms/step\n"
     ]
    },
    {
     "data": {
      "image/png": "[encoded data removed]",
      "text/plain": [
       "<Figure size 640x480 with 2 Axes>"
      ]
     },
     "metadata": {},
     "output_type": "display_data"
    }
   ],
   "source": [
    "# test model 3\n",
    "\n",
    "model = tf.keras.models.load_model('attendance_digit_model_original_modified_augmented.h5')\n",
    "\n",
    "# Load and preprocess the MNIST test data\n",
    "(_, _), (x_test, y_test) = tf.keras.datasets.mnist.load_data()\n",
    "x_test = x_test.astype('float32') / 255.0\n",
    "x_test = x_test.reshape(-1, 28, 28, 1)\n",
    "\n",
    "# Evaluate on test data\n",
    "test_loss, test_accuracy = model.evaluate(x_test, y_test, verbose=0)\n",
    "print(f\"Test Accuracy: {test_accuracy:.4f}\")\n",
    "\n",
    "# Predict labels\n",
    "y_pred = model.predict(x_test)\n",
    "y_pred_classes = np.argmax(y_pred, axis=1)\n",
    "\n",
    "# Confusion Matrix\n",
    "cm = confusion_matrix(y_test, y_pred_classes)\n",
    "disp = ConfusionMatrixDisplay(confusion_matrix=cm, display_labels=np.arange(10))\n",
    "disp.plot(cmap='Blues', values_format='d')\n",
    "plt.title(\"Confusion Matrix - Augmented Model\")\n",
    "plt.show()\n"
   ]
  },
  {
   "cell_type": "code",
   "execution_count": null,
   "id": "1148ae53",
   "metadata": {},
   "outputs": [
    {
     "name": "stdout",
     "output_type": "stream",
     "text": [
      "Epoch 1/10\n"
     ]
    },
    {
     "name": "stderr",
     "output_type": "stream",
     "text": [
      "c:\\Users\\Computer Store\\AppData\\Local\\Programs\\Python\\Python310\\lib\\site-packages\\keras\\src\\layers\\convolutional\\base_conv.py:107: UserWarning: Do not pass an `input_shape`/`input_dim` argument to a layer. When using Sequential models, prefer using an `Input(shape)` object as the first layer in the model instead.\n",
      "  super().__init__(activity_regularizer=activity_regularizer, **kwargs)\n"
     ]
    },
    {
     "name": "stdout",
     "output_type": "stream",
     "text": [
      "\u001b[1m61/61\u001b[0m \u001b[32m━━━━━━━━━━━━━━━━━━━━\u001b[0m\u001b[37m\u001b[0m \u001b[1m5s\u001b[0m 60ms/step - accuracy: 0.2222 - loss: 3.6693\n",
      "Epoch 2/10\n",
      "\u001b[1m61/61\u001b[0m \u001b[32m━━━━━━━━━━━━━━━━━━━━\u001b[0m\u001b[37m\u001b[0m \u001b[1m6s\u001b[0m 97ms/step - accuracy: 0.5920 - loss: 1.3045\n",
      "Epoch 3/10\n",
      "\u001b[1m61/61\u001b[0m \u001b[32m━━━━━━━━━━━━━━━━━━━━\u001b[0m\u001b[37m\u001b[0m \u001b[1m5s\u001b[0m 81ms/step - accuracy: 0.7477 - loss: 0.7799\n",
      "Epoch 4/10\n",
      "\u001b[1m61/61\u001b[0m \u001b[32m━━━━━━━━━━━━━━━━━━━━\u001b[0m\u001b[37m\u001b[0m \u001b[1m6s\u001b[0m 96ms/step - accuracy: 0.8204 - loss: 0.5763\n",
      "Epoch 5/10\n",
      "\u001b[1m61/61\u001b[0m \u001b[32m━━━━━━━━━━━━━━━━━━━━\u001b[0m\u001b[37m\u001b[0m \u001b[1m5s\u001b[0m 83ms/step - accuracy: 0.8682 - loss: 0.4445\n",
      "Epoch 6/10\n",
      "\u001b[1m61/61\u001b[0m \u001b[32m━━━━━━━━━━━━━━━━━━━━\u001b[0m\u001b[37m\u001b[0m \u001b[1m5s\u001b[0m 86ms/step - accuracy: 0.9054 - loss: 0.3132\n",
      "Epoch 7/10\n",
      "\u001b[1m61/61\u001b[0m \u001b[32m━━━━━━━━━━━━━━━━━━━━\u001b[0m\u001b[37m\u001b[0m \u001b[1m5s\u001b[0m 86ms/step - accuracy: 0.9362 - loss: 0.2379\n",
      "Epoch 8/10\n",
      "\u001b[1m61/61\u001b[0m \u001b[32m━━━━━━━━━━━━━━━━━━━━\u001b[0m\u001b[37m\u001b[0m \u001b[1m6s\u001b[0m 91ms/step - accuracy: 0.9462 - loss: 0.1990\n",
      "Epoch 9/10\n",
      "\u001b[1m61/61\u001b[0m \u001b[32m━━━━━━━━━━━━━━━━━━━━\u001b[0m\u001b[37m\u001b[0m \u001b[1m5s\u001b[0m 89ms/step - accuracy: 0.9601 - loss: 0.1438\n",
      "Epoch 10/10\n",
      "\u001b[1m61/61\u001b[0m \u001b[32m━━━━━━━━━━━━━━━━━━━━\u001b[0m\u001b[37m\u001b[0m \u001b[1m5s\u001b[0m 86ms/step - accuracy: 0.9646 - loss: 0.1155\n"
     ]
    },
    {
     "name": "stderr",
     "output_type": "stream",
     "text": [
      "WARNING:absl:You are saving your model as an HDF5 file via `model.save()` or `keras.saving.save_model(model)`. This file format is considered legacy. We recommend using instead the native Keras format, e.g. `model.save('my_model.keras')` or `keras.saving.save_model(model, 'my_model.keras')`. \n"
     ]
    }
   ],
   "source": [
    "#build_and_train_model_from_custom_data(r'D:\\EUI 3rd year\\2nd semester\\AI\\Project\\Scanvas\\apps\\ocr-service\\CNN_Model') #train model 4"
   ]
  },
  {
   "cell_type": "code",
   "execution_count": null,
   "id": "9276a1be",
   "metadata": {},
   "outputs": [
    {
     "name": "stdout",
     "output_type": "stream",
     "text": [
      "Epoch 1/10\n",
      "\u001b[1m610/610\u001b[0m \u001b[32m━━━━━━━━━━━━━━━━━━━━\u001b[0m\u001b[37m\u001b[0m \u001b[1m53s\u001b[0m 83ms/step - accuracy: 0.5106 - loss: 1.6721\n",
      "Epoch 2/10\n",
      "\u001b[1m610/610\u001b[0m \u001b[32m━━━━━━━━━━━━━━━━━━━━\u001b[0m\u001b[37m\u001b[0m \u001b[1m51s\u001b[0m 84ms/step - accuracy: 0.8906 - loss: 0.3594\n",
      "Epoch 3/10\n",
      "\u001b[1m610/610\u001b[0m \u001b[32m━━━━━━━━━━━━━━━━━━━━\u001b[0m\u001b[37m\u001b[0m \u001b[1m49s\u001b[0m 80ms/step - accuracy: 0.9502 - loss: 0.1589\n",
      "Epoch 4/10\n",
      "\u001b[1m610/610\u001b[0m \u001b[32m━━━━━━━━━━━━━━━━━━━━\u001b[0m\u001b[37m\u001b[0m \u001b[1m59s\u001b[0m 97ms/step - accuracy: 0.9724 - loss: 0.0896\n",
      "Epoch 5/10\n",
      "\u001b[1m610/610\u001b[0m \u001b[32m━━━━━━━━━━━━━━━━━━━━\u001b[0m\u001b[37m\u001b[0m \u001b[1m52s\u001b[0m 85ms/step - accuracy: 0.9811 - loss: 0.0595\n",
      "Epoch 6/10\n",
      "\u001b[1m610/610\u001b[0m \u001b[32m━━━━━━━━━━━━━━━━━━━━\u001b[0m\u001b[37m\u001b[0m \u001b[1m52s\u001b[0m 85ms/step - accuracy: 0.9847 - loss: 0.0444\n",
      "Epoch 7/10\n",
      "\u001b[1m610/610\u001b[0m \u001b[32m━━━━━━━━━━━━━━━━━━━━\u001b[0m\u001b[37m\u001b[0m \u001b[1m51s\u001b[0m 84ms/step - accuracy: 0.9893 - loss: 0.0313\n",
      "Epoch 8/10\n",
      "\u001b[1m610/610\u001b[0m \u001b[32m━━━━━━━━━━━━━━━━━━━━\u001b[0m\u001b[37m\u001b[0m \u001b[1m48s\u001b[0m 78ms/step - accuracy: 0.9913 - loss: 0.0251\n",
      "Epoch 9/10\n",
      "\u001b[1m610/610\u001b[0m \u001b[32m━━━━━━━━━━━━━━━━━━━━\u001b[0m\u001b[37m\u001b[0m \u001b[1m46s\u001b[0m 76ms/step - accuracy: 0.9936 - loss: 0.0211\n",
      "Epoch 10/10\n",
      "\u001b[1m610/610\u001b[0m \u001b[32m━━━━━━━━━━━━━━━━━━━━\u001b[0m\u001b[37m\u001b[0m \u001b[1m52s\u001b[0m 86ms/step - accuracy: 0.9921 - loss: 0.0297\n"
     ]
    },
    {
     "name": "stderr",
     "output_type": "stream",
     "text": [
      "WARNING:absl:You are saving your model as an HDF5 file via `model.save()` or `keras.saving.save_model(model)`. This file format is considered legacy. We recommend using instead the native Keras format, e.g. `model.save('my_model.keras')` or `keras.saving.save_model(model, 'my_model.keras')`. \n"
     ]
    }
   ],
   "source": [
    "#build_and_train_model_from_custom_data_augmented(r'D:\\EUI 3rd year\\2nd semester\\AI\\Project\\Scanvas\\apps\\ocr-service\\CNN_Model')  #train model 5"
   ]
  },
  {
   "cell_type": "code",
   "execution_count": null,
   "id": "11005da7",
   "metadata": {},
   "outputs": [],
   "source": [
    "#build_and_train_model_6()  #train model 6"
   ]
  },
  {
   "cell_type": "code",
   "execution_count": 81,
   "id": "c7deb752",
   "metadata": {},
   "outputs": [
    {
     "name": "stderr",
     "output_type": "stream",
     "text": [
      "WARNING:absl:Compiled the loaded model, but the compiled metrics have yet to be built. `model.compile_metrics` will be empty until you train or evaluate the model.\n"
     ]
    }
   ],
   "source": [
    "# upload the model\n",
    "from tensorflow.keras.models import load_model\n",
    "model = load_model('./model6.h5')  #upload any model you want"
   ]
  },
  {
   "cell_type": "code",
   "execution_count": 82,
   "id": "ae524d92",
   "metadata": {},
   "outputs": [],
   "source": [
    "from PIL import Image\n",
    "\n",
    "def load_and_preprocess_image(path):\n",
    "    img = Image.open(path)\n",
    "    return img\n",
    "\n",
    "def load_images_from_folder(folder):\n",
    "    images = []\n",
    "    filenames = []\n",
    "    for filename in sorted(os.listdir(folder)):\n",
    "        if filename.lower().endswith((\".png\", \".jpg\", \".jpeg\")):\n",
    "            path = os.path.join(folder, filename)\n",
    "            img = Image.open(path).convert(\"L\")\n",
    "            # img = np.array(img) / 255.0  # normalize\n",
    "            # img = 1 - img  # invert\n",
    "            # img = img.reshape(28, 28, 1)\n",
    "            images.append(img)\n",
    "            filenames.append(filename)\n",
    "    return np.stack(images), filenames  # <- stack into one tensor"
   ]
  },
  {
   "cell_type": "code",
   "execution_count": 83,
   "id": "35780fe5",
   "metadata": {},
   "outputs": [
    {
     "name": "stdout",
     "output_type": "stream",
     "text": [
      "First 5 images:\n"
     ]
    },
    {
     "data": {
      "image/png": "[encoded data removed]",
      "text/plain": [
       "<Figure size 1500x500 with 5 Axes>"
      ]
     },
     "metadata": {},
     "output_type": "display_data"
    },
    {
     "name": "stdout",
     "output_type": "stream",
     "text": [
      "\n",
      "Last 5 images:\n"
     ]
    },
    {
     "data": {
      "image/png": "[encoded data removed]",
      "text/plain": [
       "<Figure size 1500x500 with 5 Axes>"
      ]
     },
     "metadata": {},
     "output_type": "display_data"
    },
    {
     "name": "stdout",
     "output_type": "stream",
     "text": [
      "\u001b[1m6/6\u001b[0m \u001b[32m━━━━━━━━━━━━━━━━━━━━\u001b[0m\u001b[37m\u001b[0m \u001b[1m0s\u001b[0m 29ms/step\n",
      "id_cell_001.png ➤ 0\n",
      "id_cell_002.png ➤ 0\n",
      "id_cell_003.png ➤ 0\n",
      "id_cell_004.png ➤ 0\n",
      "id_cell_005.png ➤ 0\n",
      "id_cell_006.png ➤ 0\n",
      "id_cell_007.png ➤ 0\n",
      "id_cell_008.png ➤ 0\n",
      "id_cell_009.png ➤ 1\n",
      "id_cell_010.png ➤ 1\n",
      "id_cell_011.png ➤ 1\n",
      "id_cell_012.png ➤ 1\n",
      "id_cell_013.png ➤ 1\n",
      "id_cell_014.png ➤ 1\n",
      "id_cell_015.png ➤ 1\n",
      "id_cell_016.png ➤ 1\n",
      "id_cell_017.png ➤ 7\n",
      "id_cell_018.png ➤ 2\n",
      "id_cell_019.png ➤ 2\n",
      "id_cell_020.png ➤ 2\n",
      "id_cell_021.png ➤ 2\n",
      "id_cell_022.png ➤ 2\n",
      "id_cell_023.png ➤ 2\n",
      "id_cell_024.png ➤ 2\n",
      "id_cell_025.png ➤ 3\n",
      "id_cell_026.png ➤ 3\n",
      "id_cell_027.png ➤ 3\n",
      "id_cell_028.png ➤ 3\n",
      "id_cell_029.png ➤ 3\n",
      "id_cell_030.png ➤ 3\n",
      "id_cell_031.png ➤ 3\n",
      "id_cell_032.png ➤ 3\n",
      "id_cell_033.png ➤ 4\n",
      "id_cell_034.png ➤ 4\n",
      "id_cell_035.png ➤ 4\n",
      "id_cell_036.png ➤ 4\n",
      "id_cell_037.png ➤ 4\n",
      "id_cell_038.png ➤ 4\n",
      "id_cell_039.png ➤ 4\n",
      "id_cell_040.png ➤ 4\n",
      "id_cell_041.png ➤ 5\n",
      "id_cell_042.png ➤ 5\n",
      "id_cell_043.png ➤ 5\n",
      "id_cell_044.png ➤ 5\n",
      "id_cell_045.png ➤ 5\n",
      "id_cell_046.png ➤ 5\n",
      "id_cell_047.png ➤ 5\n",
      "id_cell_048.png ➤ 5\n",
      "id_cell_049.png ➤ 6\n",
      "id_cell_050.png ➤ 6\n",
      "id_cell_051.png ➤ 6\n",
      "id_cell_052.png ➤ 6\n",
      "id_cell_053.png ➤ 6\n",
      "id_cell_054.png ➤ 6\n",
      "id_cell_055.png ➤ 6\n",
      "id_cell_056.png ➤ 6\n",
      "id_cell_057.png ➤ 3\n",
      "id_cell_058.png ➤ 7\n",
      "id_cell_059.png ➤ 7\n",
      "id_cell_060.png ➤ 3\n",
      "id_cell_061.png ➤ 3\n",
      "id_cell_062.png ➤ 7\n",
      "id_cell_063.png ➤ 2\n",
      "id_cell_064.png ➤ 7\n",
      "id_cell_065.png ➤ 8\n",
      "id_cell_066.png ➤ 8\n",
      "id_cell_067.png ➤ 8\n",
      "id_cell_068.png ➤ 8\n",
      "id_cell_069.png ➤ 8\n",
      "id_cell_070.png ➤ 8\n",
      "id_cell_071.png ➤ 8\n",
      "id_cell_072.png ➤ 8\n",
      "id_cell_073.png ➤ 9\n",
      "id_cell_074.png ➤ 9\n",
      "id_cell_075.png ➤ 9\n",
      "id_cell_076.png ➤ 9\n",
      "id_cell_077.png ➤ 9\n",
      "id_cell_078.png ➤ 9\n",
      "id_cell_079.png ➤ 9\n",
      "id_cell_080.png ➤ 9\n",
      "id_cell_081.png ➤ 0\n",
      "id_cell_082.png ➤ 0\n",
      "id_cell_083.png ➤ 0\n",
      "id_cell_084.png ➤ 0\n",
      "id_cell_085.png ➤ 0\n",
      "id_cell_086.png ➤ 0\n",
      "id_cell_087.png ➤ 0\n",
      "id_cell_088.png ➤ 0\n",
      "id_cell_089.png ➤ 1\n",
      "id_cell_090.png ➤ 1\n",
      "id_cell_091.png ➤ 1\n",
      "id_cell_092.png ➤ 1\n",
      "id_cell_093.png ➤ 1\n",
      "id_cell_094.png ➤ 1\n",
      "id_cell_095.png ➤ 1\n",
      "id_cell_096.png ➤ 1\n",
      "id_cell_097.png ➤ 7\n",
      "id_cell_098.png ➤ 2\n",
      "id_cell_099.png ➤ 2\n",
      "id_cell_100.png ➤ 7\n",
      "id_cell_101.png ➤ 2\n",
      "id_cell_102.png ➤ 2\n",
      "id_cell_103.png ➤ 2\n",
      "id_cell_104.png ➤ 2\n",
      "id_cell_105.png ➤ 3\n",
      "id_cell_106.png ➤ 3\n",
      "id_cell_107.png ➤ 3\n",
      "id_cell_108.png ➤ 3\n",
      "id_cell_109.png ➤ 3\n",
      "id_cell_110.png ➤ 3\n",
      "id_cell_111.png ➤ 3\n",
      "id_cell_112.png ➤ 3\n",
      "id_cell_113.png ➤ 4\n",
      "id_cell_114.png ➤ 4\n",
      "id_cell_115.png ➤ 4\n",
      "id_cell_116.png ➤ 4\n",
      "id_cell_117.png ➤ 4\n",
      "id_cell_118.png ➤ 4\n",
      "id_cell_119.png ➤ 4\n",
      "id_cell_120.png ➤ 4\n",
      "id_cell_121.png ➤ 5\n",
      "id_cell_122.png ➤ 5\n",
      "id_cell_123.png ➤ 5\n",
      "id_cell_124.png ➤ 5\n",
      "id_cell_125.png ➤ 5\n",
      "id_cell_126.png ➤ 5\n",
      "id_cell_127.png ➤ 5\n",
      "id_cell_128.png ➤ 5\n",
      "id_cell_129.png ➤ 6\n",
      "id_cell_130.png ➤ 6\n",
      "id_cell_131.png ➤ 6\n",
      "id_cell_132.png ➤ 6\n",
      "id_cell_133.png ➤ 6\n",
      "id_cell_134.png ➤ 6\n",
      "id_cell_135.png ➤ 6\n",
      "id_cell_136.png ➤ 6\n",
      "id_cell_137.png ➤ 2\n",
      "id_cell_138.png ➤ 7\n",
      "id_cell_139.png ➤ 7\n",
      "id_cell_140.png ➤ 3\n",
      "id_cell_141.png ➤ 3\n",
      "id_cell_142.png ➤ 3\n",
      "id_cell_143.png ➤ 3\n",
      "id_cell_144.png ➤ 7\n",
      "id_cell_145.png ➤ 8\n",
      "id_cell_146.png ➤ 8\n",
      "id_cell_147.png ➤ 8\n",
      "id_cell_148.png ➤ 8\n",
      "id_cell_149.png ➤ 8\n",
      "id_cell_150.png ➤ 8\n",
      "id_cell_151.png ➤ 8\n",
      "id_cell_152.png ➤ 8\n",
      "id_cell_153.png ➤ 9\n",
      "id_cell_154.png ➤ 9\n",
      "id_cell_155.png ➤ 9\n",
      "id_cell_156.png ➤ 9\n",
      "id_cell_157.png ➤ 9\n",
      "id_cell_158.png ➤ 9\n",
      "id_cell_159.png ➤ 9\n",
      "id_cell_160.png ➤ 9\n",
      "id_cell_161.png ➤ 1\n",
      "id_cell_162.png ➤ 1\n",
      "id_cell_163.png ➤ 1\n",
      "id_cell_164.png ➤ 1\n",
      "id_cell_165.png ➤ 1\n",
      "id_cell_166.png ➤ 1\n",
      "id_cell_167.png ➤ 1\n",
      "id_cell_168.png ➤ 1\n",
      "id_cell_169.png ➤ 4\n",
      "id_cell_170.png ➤ 4\n",
      "id_cell_171.png ➤ 4\n",
      "id_cell_172.png ➤ 4\n",
      "id_cell_173.png ➤ 4\n",
      "id_cell_174.png ➤ 4\n",
      "id_cell_175.png ➤ 4\n",
      "id_cell_176.png ➤ 4\n",
      "id_cell_177.png ➤ 3\n",
      "id_cell_178.png ➤ 2\n",
      "id_cell_179.png ➤ 3\n",
      "id_cell_180.png ➤ 3\n",
      "id_cell_181.png ➤ 3\n",
      "id_cell_182.png ➤ 3\n",
      "id_cell_183.png ➤ 3\n",
      "id_cell_184.png ➤ 7\n"
     ]
    }
   ],
   "source": [
    "import os\n",
    "# Load all images\n",
    "image_folder = \"../images/final_clean_cells/\"\n",
    "images, filenames = load_images_from_folder(image_folder)\n",
    "\n",
    "# Function to display images\n",
    "def display_images(images, titles, rows, cols, figsize=(15, 5)):\n",
    "    fig, axes = plt.subplots(rows, cols, figsize=figsize)\n",
    "    for i, (img, title) in enumerate(zip(images, titles)):\n",
    "        ax = axes[i//cols, i%cols] if rows > 1 else axes[i]\n",
    "        ax.imshow(img, cmap='gray')\n",
    "        ax.set_title(title)\n",
    "        ax.axis('off')\n",
    "    plt.tight_layout()\n",
    "    plt.show()\n",
    "\n",
    "# Display first 5 images\n",
    "print(\"First 5 images:\")\n",
    "display_images(images[:5], [f\"Image {i+1}\" for i in range(5)], 1, 5)\n",
    "\n",
    "# Display last 5 images\n",
    "print(\"\\nLast 5 images:\")\n",
    "display_images(images[-5:], [f\"Image {len(images)-4+i}\" for i in range(5)], 1, 5)\n",
    "\n",
    "# Predict on the full batch\n",
    "prediction = model.predict(images)\n",
    "predicted_digits = np.argmax(prediction, axis=1)\n",
    "\n",
    "# Output results\n",
    "for fname, digit in zip(filenames, predicted_digits):\n",
    "    print(f\"{fname} ➤ {digit}\")"
   ]
  },
  {
   "cell_type": "markdown",
   "id": "e7fe9684",
   "metadata": {},
   "source": [
    "#### -------------------------------------------- Complexity Analysis   --------------------------------------------"
   ]
  },
  {
   "cell_type": "markdown",
   "id": "6f1f1480",
   "metadata": {},
   "source": [
    "| Component              | Time Complexity | Space Complexity |\n",
    "| ---------------------- | --------------- | ---------------- |\n",
    "| Load model             | O(1)            | O(M)             |\n",
    "| Load & preprocess data | O(N)            | O(N)             |\n",
    "| Evaluate model         | O(N × P)        | O(N × C)         |\n",
    "| Predict                | O(N × P)        | O(N × C)         |\n",
    "| Confusion matrix       | O(N)            | O(C²)            |\n",
    "| Plotting               | O(C²)           | O(C²)            |\n"
   ]
  },
  {
   "cell_type": "markdown",
   "id": "c228c6e4",
   "metadata": {},
   "source": [
    "# Project Done"
   ]
  }
 ],
 "metadata": {
  "kernelspec": {
   "display_name": "Python 3",
   "language": "python",
   "name": "python3"
  },
  "language_info": {
   "codemirror_mode": {
    "name": "ipython",
    "version": 3
   },
   "file_extension": ".py",
   "mimetype": "text/x-python",
   "name": "python",
   "nbconvert_exporter": "python",
   "pygments_lexer": "ipython3",
   "version": "3.10.2"
  }
 },
 "nbformat": 4,
 "nbformat_minor": 5
}
